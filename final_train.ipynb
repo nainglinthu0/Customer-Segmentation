{
 "cells": [
  {
   "cell_type": "code",
   "execution_count": null,
   "id": "b5a1660c",
   "metadata": {},
   "outputs": [
    {
     "name": "stdout",
     "output_type": "stream",
     "text": [
      "Model accuracy: 1.00\n"
     ]
    }
   ],
   "source": [
    "# Import necessary libraries\n",
    "import pandas as pd\n",
    "import numpy as np\n",
    "from sklearn.preprocessing import StandardScaler\n",
    "from sklearn.ensemble import RandomForestClassifier\n",
    "import pickle\n",
    "import datetime as dt\n",
    "\n",
    "# Data loading and preprocessing\n",
    "data = pd.read_csv(\"C:/Users/Administrator/Desktop/Personal_NAING/Parami_Naing/Advance Machine Learning/Midterm/Final_Midterm/Online Retail.csv\")\n",
    "\n",
    "# Drop missing CustomerID rows\n",
    "data = data.dropna(subset=['CustomerID'])\n",
    "\n",
    "# #We will remove the negative quantity as it is not possible to have negative quantity in a retail transaction.\n",
    "data = data[data['Quantity'] > 0]\n",
    "\n",
    "# #We will check the total amount of money spent by each customer and add a new column.\n",
    "data['TotalPrice'] = data['Quantity'] * data['UnitPrice']\n",
    "\n",
    "# #We will check the recency of each customer. The output is the latest date of purchase.\n",
    "\n",
    "data['InvoiceDate'] = pd.to_datetime(data['InvoiceDate'])\n",
    "\n",
    "# Define the latest purchase date\n",
    "latest_date = dt.datetime(2011, 12, 10)\n",
    "\n",
    "# Create the RFM metrics\n",
    "RFM_data = data.groupby('CustomerID').agg({\n",
    "    'InvoiceDate': lambda x: (latest_date - x.max()).days,\n",
    "    'InvoiceNo': 'count',\n",
    "    'TotalPrice': 'sum'\n",
    "}).rename(columns={\n",
    "    'InvoiceDate': 'Recency',\n",
    "    'InvoiceNo': 'Frequency',\n",
    "    'TotalPrice': 'Monetary'\n",
    "})\n",
    "\n",
    "# Apply StandardScaler to the RFM data\n",
    "scaler = StandardScaler()\n",
    "RFM_data_scaled = scaler.fit_transform(RFM_data)\n",
    "RFM_data_scaled = pd.DataFrame(RFM_data_scaled, columns=RFM_data.columns)\n",
    "\n",
    "# Train the Random Forest model\n",
    "X = RFM_data[['Recency', 'Frequency', 'Monetary']]\n",
    "y = RFM_data['Recency'].apply(lambda x: 'Low-value Customer' if x > 100 else 'High-value Customer')  # Example segmentation\n",
    "\n",
    "rf_model = RandomForestClassifier(random_state=42)\n",
    "rf_model.fit(RFM_data_scaled, y)\n",
    "\n",
    "# Save the model and scaler for deployment\n",
    "with open('rf_model.pkl', 'wb') as f:\n",
    "    pickle.dump(rf_model, f)\n",
    "\n",
    "with open('scaler.pkl', 'wb') as f:\n",
    "    pickle.dump(scaler, f)\n",
    "    \n",
    "# Check model accuracy\n",
    "from sklearn.metrics import accuracy_score\n",
    "y_pred = rf_model.predict(RFM_data_scaled)\n",
    "accuracy = accuracy_score(y, y_pred)\n",
    "print(f'Model accuracy: {accuracy:.2f}')\n"
   ]
  },
  {
   "cell_type": "markdown",
   "id": "0f36d242",
   "metadata": {},
   "source": [
    "# FRM Analysis\n",
    "We will use RFM (Recency, Frequency, Monetary) analysis. This is common to use in marketing sector especially to analyse and rank customers according to their purchasing behavior, which is perfect for the purpose of this project.\n",
    "Recency shows the recency of a customer's purchase.\n",
    "Frequency shows how often a customer make a purchase.\n",
    "Monetary shows the total amount of money spent by the customer."
   ]
  },
  {
   "cell_type": "markdown",
   "id": "5393106e",
   "metadata": {},
   "source": [
    "# Analysis\n",
    "We selected the customers who made the purchase from 2011-12-09. This resulted to having 4339 customers. We can say that on average, customers last shopped about 3 months ago, made around 92 purchases and spent about 2054. There are some customers who shop and spend a lot more than others. We can say half of the customers last shopped about 50 days ago, made around 41 purchases and spent about 674. We should focus on big spenders as this could be really valuable to the business.\n"
   ]
  }
 ],
 "metadata": {
  "kernelspec": {
   "display_name": "project",
   "language": "python",
   "name": "python3"
  },
  "language_info": {
   "codemirror_mode": {
    "name": "ipython",
    "version": 3
   },
   "file_extension": ".py",
   "mimetype": "text/x-python",
   "name": "python",
   "nbconvert_exporter": "python",
   "pygments_lexer": "ipython3",
   "version": "3.13.2"
  }
 },
 "nbformat": 4,
 "nbformat_minor": 5
}
